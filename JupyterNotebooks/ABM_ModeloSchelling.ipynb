{
 "cells": [
  {
   "cell_type": "markdown",
   "id": "983c65cd-8184-4405-937d-6f285d9725c9",
   "metadata": {},
   "source": [
    "# Modelo de Segregación de Schelling en `MESA`"
   ]
  },
  {
   "cell_type": "markdown",
   "id": "1a322530-290f-4cf1-a4a3-0e2a98764301",
   "metadata": {},
   "source": [
    "### Reglas\n"
   ]
  },
  {
   "cell_type": "markdown",
   "id": "cc0258b1-8808-4122-8079-a50fa916c2d3",
   "metadata": {},
   "source": [
    "- Dos diferentes tipos de agentes distribuidos en un espacio finito de dimensión 2.\n",
    "- En cada iteración se elige un agente al azar y se mide el porcentaje que de ellos son del mismo tipo. Si el porcentaje es menor a cierto umbral salta aletoriamente a otro lugar libre en el espacio.\n"
   ]
  },
  {
   "cell_type": "markdown",
   "id": "5edb28f8-89fe-4947-9da7-6586ad22922a",
   "metadata": {
    "tags": []
   },
   "source": [
    "## Agente del modelo de Schelling"
   ]
  },
  {
   "cell_type": "markdown",
   "id": "20af7cfc-4d1d-422f-933d-d51c18d1c677",
   "metadata": {},
   "source": [
    "Esta la primera parte implementaremos el modelo sobre una malla, es decir en un espacio discreto."
   ]
  },
  {
   "cell_type": "markdown",
   "id": "03e6af64-4fcb-4fb1-9be8-0787fcede665",
   "metadata": {},
   "source": [
    "Creamos una clase para el agente. En el `__init__` definimos las propiedades internas de cada agente. En este primer acercamiento consideraremos una misma tolerancia (similaridad) para todos los agentes por lo que ese atributo pertencerá a la clase modelo.\n"
   ]
  },
  {
   "cell_type": "code",
   "execution_count": 1,
   "id": "879de802-7a80-48a5-96d2-e6f305be5a78",
   "metadata": {},
   "outputs": [],
   "source": [
    "class AgenteSchelling:\n",
    "    \"\"\"\n",
    "    Agente del modelo de Schelling Discreto\n",
    "    Esta clase implementa un agente para el modelo de segregación de Schelling en una malla discreta.\n",
    "    Atributos:\n",
    "        tipo/color: \"red\" \"blue\". Str.\n",
    "        pos: posición del agente. Tupla de enteros.       \n",
    "    \"\"\"\n",
    "    def __init__(self,color,pos):\n",
    "        self.color = color\n",
    "        self.pos = pos"
   ]
  },
  {
   "cell_type": "markdown",
   "id": "0456b54d-106a-433e-8b3e-8f21ed1443dd",
   "metadata": {},
   "source": [
    "Creamos un agente a partir de nuestra clase definida arriba"
   ]
  },
  {
   "cell_type": "code",
   "execution_count": 2,
   "id": "5f342d49-7ab9-49f7-9db0-85b392f86e34",
   "metadata": {},
   "outputs": [],
   "source": [
    "agente1 = AgenteSchelling('red',(0,1))"
   ]
  },
  {
   "cell_type": "markdown",
   "id": "35d33eb8-77d4-4e90-a90b-dea94923fc56",
   "metadata": {},
   "source": [
    "Por medio del punto (.) podemos acceder a los atributos de nuestra clase agente"
   ]
  },
  {
   "cell_type": "code",
   "execution_count": 3,
   "id": "9b8a5a65-db23-4900-b3a1-14a13b73f51d",
   "metadata": {},
   "outputs": [
    {
     "name": "stdout",
     "output_type": "stream",
     "text": [
      "red\n",
      "(0, 1)\n"
     ]
    }
   ],
   "source": [
    "print(agente1.color)\n",
    "print(agente1.pos)"
   ]
  },
  {
   "cell_type": "markdown",
   "id": "4dfaa4c4-cb16-4172-a9ff-882b366139b7",
   "metadata": {},
   "source": [
    "## Importamos la clase Agent y Model del modulo `MESA`"
   ]
  },
  {
   "cell_type": "markdown",
   "id": "f446ba4b-b78f-4a51-ad92-887dd898afe8",
   "metadata": {},
   "source": [
    "Utilizaremos la ventajas de la OOP (programación orientada a objetos) y creamos una clase secundaria (clase hija) a partir de la clase `Agent`  de `mesa` (clase madre)."
   ]
  },
  {
   "cell_type": "code",
   "execution_count": 4,
   "id": "72708220-9ec9-4b8f-85f6-eb232d96b200",
   "metadata": {},
   "outputs": [],
   "source": [
    "from mesa import Agent, Model"
   ]
  },
  {
   "cell_type": "code",
   "execution_count": 5,
   "id": "8d3fedce-9034-436e-91f7-0de19a254b7e",
   "metadata": {
    "tags": []
   },
   "outputs": [],
   "source": [
    "class AgenteSchelling(Agent):\n",
    "    \"\"\"\n",
    "    Agente del modelo de Schelling\n",
    "    Esta clase implementa un agente para el modelo de segregación de Schelling en una malla discreta.\n",
    "    Atributos:\n",
    "        tipo/color: \"red\" \"blue\". Str.\n",
    "        pos: posición del agente. Tupla de enteros.\n",
    "        modelo: Nuestro clase modelo. Modelo mesa.\n",
    "    \"\"\"\n",
    "    def __init__(self,color,pos, model):\n",
    "        # Aqui van los atributos del agente\n",
    "        self.color = color\n",
    "        self.pos = pos\n",
    "        self.model  = model\n",
    "        "
   ]
  },
  {
   "cell_type": "markdown",
   "id": "734226d3-c405-4386-8b60-36ab379c9fff",
   "metadata": {},
   "source": [
    "También creamos una clase hija para nuestro modelo a partir de la clase `Model`  de `mesa`."
   ]
  },
  {
   "cell_type": "code",
   "execution_count": 6,
   "id": "6cccc66d-3663-459c-8c3a-69f14b42a9c3",
   "metadata": {
    "tags": []
   },
   "outputs": [],
   "source": [
    "class ModeloSchelling(Model):\n",
    "    \"\"\"\n",
    "    Modelo de Schelling,\n",
    "    Esta clase implementa el modelo de segregación de Schelling en una malla discreta.\n",
    "\n",
    "    ancho: ancho de la malla. Int\n",
    "    largo: largo de la malla. Int\n",
    "    tolerancia: porcentaje de vecinos al menos iguales al del agente. Float.\n",
    "\n",
    "    \"\"\"\n",
    "    def __init__(self,ancho,largo,tolerancia):\n",
    "        self.ancho = ancho\n",
    "        self.largo = largo\n",
    "        self.tolerancia = tolerancia"
   ]
  },
  {
   "cell_type": "markdown",
   "id": "ad4197e9-b9b1-459a-ac32-fc64f24fcf54",
   "metadata": {},
   "source": [
    "## Definimos el espacio donde se van a mover los agentes"
   ]
  },
  {
   "cell_type": "markdown",
   "id": "94b91344-4635-49fc-835c-338511a999f2",
   "metadata": {},
   "source": [
    "`mesa.space` contiene diferentes tipos de configuraciones espaciales donde se moverán los agentes:  `Single, MultiGrid, ContinouosSpace, HexGrid, NetworkGrid.`\n",
    "`SingleGrid` permite colocar solomente un agente en cada posición de una malla discreta."
   ]
  },
  {
   "cell_type": "code",
   "execution_count": 7,
   "id": "7a428495-11d1-4e2a-afca-fb71092901af",
   "metadata": {},
   "outputs": [],
   "source": [
    "from mesa.space import SingleGrid "
   ]
  },
  {
   "cell_type": "code",
   "execution_count": 8,
   "id": "6d7a2173-58a9-423a-9ca4-431371ccb06b",
   "metadata": {
    "tags": []
   },
   "outputs": [],
   "source": [
    "class AgenteSchelling(Agent):\n",
    "    \"\"\"\n",
    "    Agente del modelo de Schelling\n",
    "    Esta clase implementa un agente para el modelo de segregación de Schelling en una malla discreta.\n",
    "    Atributos:\n",
    "        tipo/color: \"red\" \"blue\". Str.\n",
    "        pos: posición del agente. Tupla de enteros.\n",
    "        modelo: Nuestro clase modelo. Modelo mesa.\n",
    "    \"\"\"\n",
    "    def __init__(self,color,pos, model):\n",
    "        # Aqui van los atributos del agente\n",
    "        self.color = color\n",
    "        self.pos = pos\n",
    "        self.model  = model\n",
    "        \n",
    "class ModeloSchelling(Model):\n",
    "    \"\"\"\n",
    "    Modelo de Schelling,\n",
    "    Esta clase implementa el modelo de segregación de Schelling en una malla discreta.\n",
    "\n",
    "    ancho: ancho de la malla. Int\n",
    "    largo: largo de la malla. Int\n",
    "    tolerancia: porcentaje de vecinos al menos iguales al del agente. Float.\n",
    "\n",
    "    \"\"\"\n",
    "    def __init__(self,ancho,largo,tolerancia):\n",
    "        self.ancho = ancho\n",
    "        self.largo = largo\n",
    "        self.tolerancia = tolerancia\n",
    "\n",
    "        # Con torus=True le decimos que active la topología en forma de toroide\n",
    "        self.grid = SingleGrid(ancho, largo, torus= True)"
   ]
  },
  {
   "cell_type": "markdown",
   "id": "d22339ec-faed-4fc1-bb40-c3ef4a62b026",
   "metadata": {},
   "source": [
    "Inicializamos el modelo"
   ]
  },
  {
   "cell_type": "code",
   "execution_count": 9,
   "id": "14f61e81-64f2-4d76-b745-6c2c81370ef4",
   "metadata": {},
   "outputs": [
    {
     "name": "stdout",
     "output_type": "stream",
     "text": [
      "10\n",
      "10\n",
      "0.4\n"
     ]
    }
   ],
   "source": [
    "modelo_prueba = ModeloSchelling(10,10,0.4)\n",
    "\n",
    "# Atributos del modelo\n",
    "print(modelo_prueba.ancho)\n",
    "print(modelo_prueba.largo)\n",
    "print(modelo_prueba.tolerancia)"
   ]
  },
  {
   "cell_type": "markdown",
   "id": "f2cc0e30-5583-4dfd-bfd0-d001c9864b1f",
   "metadata": {},
   "source": [
    "Inicializamos un agente"
   ]
  },
  {
   "cell_type": "code",
   "execution_count": 10,
   "id": "819f2ec5-0897-4029-ba4b-072abfc035c8",
   "metadata": {},
   "outputs": [
    {
     "name": "stdout",
     "output_type": "stream",
     "text": [
      "rojo\n",
      "(0, 0)\n"
     ]
    }
   ],
   "source": [
    "agente1 = AgenteSchelling('rojo',(0,0), modelo_prueba)\n",
    "\n",
    "# Atributos del agente\n",
    "print(agente1.color)\n",
    "print(agente1.pos)"
   ]
  },
  {
   "cell_type": "markdown",
   "id": "14b7f55b-3cce-417b-83d0-f2401408ac12",
   "metadata": {},
   "source": [
    "Podemos acceder a la malla"
   ]
  },
  {
   "cell_type": "code",
   "execution_count": 11,
   "id": "cc26867b-61a5-499a-837c-269b74ba99b3",
   "metadata": {},
   "outputs": [
    {
     "data": {
      "text/plain": [
       "[[None, None, None, None, None, None, None, None, None, None],\n",
       " [None, None, None, None, None, None, None, None, None, None],\n",
       " [None, None, None, None, None, None, None, None, None, None],\n",
       " [None, None, None, None, None, None, None, None, None, None],\n",
       " [None, None, None, None, None, None, None, None, None, None],\n",
       " [None, None, None, None, None, None, None, None, None, None],\n",
       " [None, None, None, None, None, None, None, None, None, None],\n",
       " [None, None, None, None, None, None, None, None, None, None],\n",
       " [None, None, None, None, None, None, None, None, None, None],\n",
       " [None, None, None, None, None, None, None, None, None, None]]"
      ]
     },
     "execution_count": 11,
     "metadata": {},
     "output_type": "execute_result"
    }
   ],
   "source": [
    "modelo_prueba.grid.grid"
   ]
  },
  {
   "cell_type": "markdown",
   "id": "d2d4c8fd-5dc0-44b9-9293-dbd3e593d52d",
   "metadata": {},
   "source": [
    "Con `.find_empty` encontramos un lugar aleatorio vacío"
   ]
  },
  {
   "cell_type": "code",
   "execution_count": 12,
   "id": "008bb316-4f33-4f4b-8ae2-d33415d85080",
   "metadata": {},
   "outputs": [
    {
     "data": {
      "text/plain": [
       "(7, 0)"
      ]
     },
     "execution_count": 12,
     "metadata": {},
     "output_type": "execute_result"
    }
   ],
   "source": [
    "modelo_prueba.grid.find_empty()"
   ]
  },
  {
   "cell_type": "markdown",
   "id": "b5bbd495-54c6-413c-ba4a-22ba3a09a94f",
   "metadata": {},
   "source": [
    "## Definimos la regla que obecede cada agente"
   ]
  },
  {
   "cell_type": "markdown",
   "id": "9a1f88f2-f6ca-4240-b33f-58e735d9eb6a",
   "metadata": {},
   "source": [
    "Dentro de nuestra clase `AgenteSchelling` se define un método llamado `step()` en el cual se programará las reglas que siguen los agentes."
   ]
  },
  {
   "cell_type": "code",
   "execution_count": 13,
   "id": "198f7a7e-cb51-4e5e-a02b-34b2cbbe045c",
   "metadata": {},
   "outputs": [],
   "source": [
    "class AgenteSchelling(Agent):\n",
    "    \"\"\"\n",
    "    Agente del modelo de Schelling\n",
    "    Esta clase implementa un agente para el modelo de segregación de Schelling en una malla discreta.\n",
    "    Atributos:\n",
    "        tipo/color: \"red\" \"blue\". Str.\n",
    "        pos: posición del agente. Tupla de enteros.\n",
    "        modelo: Nuestro clase modelo. Modelo mesa.\n",
    "    \"\"\"\n",
    "    def __init__(self,color,pos, model):\n",
    "        # Aqui van los atributos del agente\n",
    "        self.color = color\n",
    "        self.pos = pos\n",
    "        self.model  = model\n",
    "        \n",
    "    def step(self):\n",
    "        #Buscar si hay algún otro agente en su vecindad cercana. Para el modelo de segregación utilizamos una vecindad de Moore\n",
    "        vecinos = self.model.grid.get_neighbors(self.pos, moore=True, include_center=False)\n",
    "        \n",
    "        # Contamos cuantos agentes vecinos son similares a nuestro agente\n",
    "        vecindad = 0\n",
    "        for i in vecinos:\n",
    "            if i.color == self.color:\n",
    "                vecindad += 1 # vecindad = vecindad + 1\n",
    "                \n",
    "        vecindad /= 8 # vecindad =  vecindad / 8         \n",
    "        \n",
    "        # Si el porcentaje de vecinos es menor a cierto porcentaje de tolerancia,\n",
    "        # el agente se mueve a un lugar vacío\n",
    "        if vecindad < self.model.tolerancia:\n",
    "            self.model.grid.move_to_empty(self)\n",
    "        "
   ]
  },
  {
   "cell_type": "markdown",
   "id": "6c1470fe-df25-48f7-81d4-8694343c8b73",
   "metadata": {},
   "source": [
    "## Definimos la configuración inicial del modelo"
   ]
  },
  {
   "cell_type": "code",
   "execution_count": 14,
   "id": "3ab6a3b9-480a-43cc-b69d-25e3faa57aed",
   "metadata": {},
   "outputs": [],
   "source": [
    "class ModeloSchelling(Model):\n",
    "    \"\"\"\n",
    "    Modelo de Schelling,\n",
    "    Esta clase implementa el modelo de segregación de Schelling en una malla discreta.\n",
    "\n",
    "    ancho: ancho de la malla. Int\n",
    "    largo: largo de la malla. Int\n",
    "    tolerancia: porcentaje de vecinos al menos iguales al del agente. Float.\n",
    "    cantidad: número de agentes que colocaremos en la malla. Int\n",
    "    \"\"\"\n",
    "    def __init__(self,ancho,largo, tolerancia, cantidad):\n",
    "        self.ancho = ancho\n",
    "        self.largo = largo\n",
    "        self.tolerancia = tolerancia\n",
    "        self.cantidad = cantidad\n",
    "        colores = [\"red\", \"blue\"]\n",
    "        \n",
    "        # Con torus=True le decimos que active la topología en forma de toroide\n",
    "        self.grid = SingleGrid(ancho, largo, torus= True)\n",
    "\n",
    "        \n",
    "        for i in range(cantidad):\n",
    "            color = self.random.choice(colores)\n",
    "            pos = self.grid.find_empty()\n",
    "            # Como estamos dentro de la clase para hacer referencia al modelo lo hacemos como self\n",
    "            agente = AgenteSchelling(color,pos,self )\n",
    "            # Después de crear el agente tenemos que colocarlo en la malla\n",
    "            self.grid.place_agent(agente, pos)"
   ]
  },
  {
   "cell_type": "markdown",
   "id": "e85e43dc-e972-40a7-9c2c-a45959ac08be",
   "metadata": {},
   "source": [
    "Inicializamos el modelo. Colocamos sólo dos agentes para verfirificar que corra bien"
   ]
  },
  {
   "cell_type": "code",
   "execution_count": 15,
   "id": "3c5d5688-8e11-4efc-a06a-761fb8a202ab",
   "metadata": {},
   "outputs": [],
   "source": [
    "modelo_prueba = ModeloSchelling(10,10,0.4,2)"
   ]
  },
  {
   "cell_type": "markdown",
   "id": "d39d4535-eff6-474c-a520-f5a06f0af2b6",
   "metadata": {},
   "source": [
    "Podemos acceder a la malla y saber que posciones ocupan los agentes en el espacio"
   ]
  },
  {
   "cell_type": "code",
   "execution_count": 16,
   "id": "fe780e66-6545-4b77-8529-542110bae487",
   "metadata": {},
   "outputs": [
    {
     "data": {
      "text/plain": [
       "[[None, None, None, None, None, None, None, None, None, None],\n",
       " [None, None, None, None, None, None, None, None, None, None],\n",
       " [None, None, None, None, None, None, None, None, None, None],\n",
       " [None, None, None, None, None, None, None, None, None, None],\n",
       " [None,\n",
       "  None,\n",
       "  <__main__.AgenteSchelling at 0x7f9e141d99a0>,\n",
       "  None,\n",
       "  None,\n",
       "  None,\n",
       "  None,\n",
       "  None,\n",
       "  None,\n",
       "  <__main__.AgenteSchelling at 0x7f9e141d9f40>],\n",
       " [None, None, None, None, None, None, None, None, None, None],\n",
       " [None, None, None, None, None, None, None, None, None, None],\n",
       " [None, None, None, None, None, None, None, None, None, None],\n",
       " [None, None, None, None, None, None, None, None, None, None],\n",
       " [None, None, None, None, None, None, None, None, None, None]]"
      ]
     },
     "execution_count": 16,
     "metadata": {},
     "output_type": "execute_result"
    }
   ],
   "source": [
    "modelo_prueba.grid.grid"
   ]
  },
  {
   "cell_type": "markdown",
   "id": "7935ea2e-d87e-4d4c-b9a2-9c4947dd74c1",
   "metadata": {},
   "source": [
    "Colocándonos en la posición del agente dentro de la malla podemos acceder a los atributos del agente"
   ]
  },
  {
   "cell_type": "code",
   "execution_count": 18,
   "id": "8984401d-6143-4972-abd7-322448be7011",
   "metadata": {},
   "outputs": [
    {
     "data": {
      "text/plain": [
       "'blue'"
      ]
     },
     "execution_count": 18,
     "metadata": {},
     "output_type": "execute_result"
    }
   ],
   "source": [
    "modelo_prueba.grid.grid[4][2].color"
   ]
  },
  {
   "cell_type": "markdown",
   "id": "6919dcc6-eee1-4fcf-831c-5a8e7f011bee",
   "metadata": {},
   "source": [
    "### ¿En qué orden vamos a activar los agentes en cada iteración?"
   ]
  },
  {
   "cell_type": "markdown",
   "id": "adbdeb09-1326-42b8-8339-b0b20348f345",
   "metadata": {},
   "source": [
    "`mesa.time` contiene tres diferentes activación:  `BasedScheduler, RandomActivation, SimultaneousActivation, StagedActivation`\n",
    "Con`RandomActivation` el orden de los agentes es aleatorio en cada iteracción o paso."
   ]
  },
  {
   "cell_type": "code",
   "execution_count": 19,
   "id": "9ee4b20b-437e-4250-b127-55a0c76e7472",
   "metadata": {},
   "outputs": [],
   "source": [
    "from mesa.time import RandomActivation "
   ]
  },
  {
   "cell_type": "code",
   "execution_count": 20,
   "id": "c559354d-6c1d-411a-9209-bddbd5655364",
   "metadata": {},
   "outputs": [],
   "source": [
    "class ModeloSchelling(Model):\n",
    "    \"\"\"\n",
    "    Modelo de Schelling,\n",
    "    Esta clase implementa el modelo de segregación de Schelling en una malla discreta.\n",
    "\n",
    "    ancho: ancho de la malla. Int\n",
    "    largo: largo de la malla. Int\n",
    "    tolerancia: porcentaje de vecinos al menos iguales al del agente. Float.\n",
    "    cantidad: número de agentes que colocaremos en la malla. Int\n",
    "    \"\"\"\n",
    "    def __init__(self,ancho,largo,tolerancia, cantidad):\n",
    "        self.ancho = ancho\n",
    "        self.largo = largo\n",
    "        self.tolerancia = tolerancia\n",
    "        self.cantidad = cantidad\n",
    "        colores = [\"red\", \"blue\"]\n",
    "\n",
    "        # Activamos el orden aleatorio\n",
    "        self.schedule = RandomActivation(self)\n",
    "        self.grid = SingleGrid(ancho, largo, torus= True)\n",
    "\n",
    "        \n",
    "        for i in range(cantidad):\n",
    "            color = self.random.choice(colores)\n",
    "            pos = self.grid.find_empty()\n",
    "            # Como estamos dentro de la clase para hacer referencia al modelo lo hacemos como self\n",
    "            agente = AgenteSchelling(color,pos,self)\n",
    "            # Después de crear el agente tenemos que colocarlo en la malla\n",
    "            self.grid.place_agent(agente, pos)\n",
    "            # De igual forma una vez creado el agente tenemos que 'agendarlo'\n",
    "            self.schedule.add(agente)\n",
    "    def step(self):\n",
    "        # Avanza un paso en el tiempo.\n",
    "        self.schedule.step()"
   ]
  },
  {
   "cell_type": "markdown",
   "id": "fa225fb9-1e51-4078-a1e6-794fff6639dc",
   "metadata": {},
   "source": [
    "Inicializamos el modelo"
   ]
  },
  {
   "cell_type": "code",
   "execution_count": 21,
   "id": "ccbe9207-9f05-498c-9e1f-fcf665c6ffe2",
   "metadata": {
    "tags": []
   },
   "outputs": [
    {
     "ename": "AttributeError",
     "evalue": "'AgenteSchelling' object has no attribute 'unique_id'",
     "output_type": "error",
     "traceback": [
      "\u001b[0;31m---------------------------------------------------------------------------\u001b[0m",
      "\u001b[0;31mAttributeError\u001b[0m                            Traceback (most recent call last)",
      "\u001b[0;32m/tmp/ipykernel_12123/1841885044.py\u001b[0m in \u001b[0;36m<module>\u001b[0;34m\u001b[0m\n\u001b[0;32m----> 1\u001b[0;31m \u001b[0mmodelo_p1\u001b[0m \u001b[0;34m=\u001b[0m \u001b[0mModeloSchelling\u001b[0m\u001b[0;34m(\u001b[0m\u001b[0;36m10\u001b[0m\u001b[0;34m,\u001b[0m\u001b[0;36m10\u001b[0m\u001b[0;34m,\u001b[0m\u001b[0;36m0.4\u001b[0m\u001b[0;34m,\u001b[0m\u001b[0;36m60\u001b[0m\u001b[0;34m)\u001b[0m\u001b[0;34m\u001b[0m\u001b[0;34m\u001b[0m\u001b[0m\n\u001b[0m",
      "\u001b[0;32m/tmp/ipykernel_12123/1686773846.py\u001b[0m in \u001b[0;36m__init__\u001b[0;34m(self, ancho, largo, tolerancia, cantidad)\u001b[0m\n\u001b[1;32m     29\u001b[0m             \u001b[0mself\u001b[0m\u001b[0;34m.\u001b[0m\u001b[0mgrid\u001b[0m\u001b[0;34m.\u001b[0m\u001b[0mplace_agent\u001b[0m\u001b[0;34m(\u001b[0m\u001b[0magente\u001b[0m\u001b[0;34m,\u001b[0m \u001b[0mpos\u001b[0m\u001b[0;34m)\u001b[0m\u001b[0;34m\u001b[0m\u001b[0;34m\u001b[0m\u001b[0m\n\u001b[1;32m     30\u001b[0m             \u001b[0;31m# De igual forma una vez creado el agente tenemos que 'agendarlo'\u001b[0m\u001b[0;34m\u001b[0m\u001b[0;34m\u001b[0m\u001b[0;34m\u001b[0m\u001b[0m\n\u001b[0;32m---> 31\u001b[0;31m             \u001b[0mself\u001b[0m\u001b[0;34m.\u001b[0m\u001b[0mschedule\u001b[0m\u001b[0;34m.\u001b[0m\u001b[0madd\u001b[0m\u001b[0;34m(\u001b[0m\u001b[0magente\u001b[0m\u001b[0;34m)\u001b[0m\u001b[0;34m\u001b[0m\u001b[0;34m\u001b[0m\u001b[0m\n\u001b[0m\u001b[1;32m     32\u001b[0m     \u001b[0;32mdef\u001b[0m \u001b[0mstep\u001b[0m\u001b[0;34m(\u001b[0m\u001b[0mself\u001b[0m\u001b[0;34m)\u001b[0m\u001b[0;34m:\u001b[0m\u001b[0;34m\u001b[0m\u001b[0;34m\u001b[0m\u001b[0m\n\u001b[1;32m     33\u001b[0m         \u001b[0;31m# Avanza un paso en el tiempo.\u001b[0m\u001b[0;34m\u001b[0m\u001b[0;34m\u001b[0m\u001b[0;34m\u001b[0m\u001b[0m\n",
      "\u001b[0;32m~/Nube/miniconda3/envs/mesa/lib/python3.9/site-packages/mesa/time.py\u001b[0m in \u001b[0;36madd\u001b[0;34m(self, agent)\u001b[0m\n\u001b[1;32m     61\u001b[0m         \"\"\"\n\u001b[1;32m     62\u001b[0m \u001b[0;34m\u001b[0m\u001b[0m\n\u001b[0;32m---> 63\u001b[0;31m         \u001b[0;32mif\u001b[0m \u001b[0magent\u001b[0m\u001b[0;34m.\u001b[0m\u001b[0munique_id\u001b[0m \u001b[0;32min\u001b[0m \u001b[0mself\u001b[0m\u001b[0;34m.\u001b[0m\u001b[0m_agents\u001b[0m\u001b[0;34m:\u001b[0m\u001b[0;34m\u001b[0m\u001b[0;34m\u001b[0m\u001b[0m\n\u001b[0m\u001b[1;32m     64\u001b[0m             raise Exception(\n\u001b[1;32m     65\u001b[0m                 \"Agent with unique id {0} already added to scheduler\".format(\n",
      "\u001b[0;31mAttributeError\u001b[0m: 'AgenteSchelling' object has no attribute 'unique_id'"
     ]
    }
   ],
   "source": [
    "modelo_p1 = ModeloSchelling(10,10,0.4,60)"
   ]
  },
  {
   "cell_type": "markdown",
   "id": "cbafab69-2188-474d-992a-8bac35c98a7c",
   "metadata": {},
   "source": [
    "Nos marca un error. Esto se debe a que la clase padre `Agent`, en la que basaremos nuestros agentes, necesita como argumentos un _identificador único_ y el _modelo_ como argumentos para inicializar un agente. Además queremos inicializar los valores en la clase padre, por lo que utilizamos `super().__init__(unique_id,model)` así que modificamos los argumentos del constructor de la clase `AgenteSchelling` además donde creamos los agentes dentro del modelo `ModeloSchelling`.\n"
   ]
  },
  {
   "cell_type": "code",
   "execution_count": 22,
   "id": "93463ae8-1f4f-45f4-a0c7-34d443a4072c",
   "metadata": {},
   "outputs": [],
   "source": [
    "class AgenteSchelling(Agent):\n",
    "    \"\"\"\n",
    "    Agente del modelo de Schelling\n",
    "    Esta clase implementa un agente para el modelo de segregación de Schelling en una malla discreta.\n",
    "    Atributos:\n",
    "        tipo/color: \"rojo\" \"azul\". Str.\n",
    "        pos: posición del agente. Tupla de enteros.\n",
    "        modelo: Nuestro clase modelo. Modelo mesa. \n",
    "    \"\"\"\n",
    "    def __init__(self,unique_id, model,color,pos):\n",
    "        # Aqui van los atributos del agente\n",
    "        super().__init__(unique_id,model)\n",
    "        self.color = color\n",
    "        self.pos = pos\n",
    "        self.model  = model\n",
    "        \n",
    "    def step(self):\n",
    "        #Buscar si hay algún otro agente en su vecindad cercana. Para el modelo de segregación utilizamos una vecindad de Moore\n",
    "        vecinos = self.model.grid.get_neighbors(self.pos, moore=True, include_center=False)\n",
    "        \n",
    "        # Contamos cuantos agentes vecinos son similares a nuestro agente\n",
    "        vecindad = 0\n",
    "        for i in vecinos:\n",
    "            if i.color == self.color:\n",
    "                vecindad += 1 # vecindad = vecindad + 1\n",
    "                \n",
    "        vecindad /= 8 # vecindad =  vecindad / 8         \n",
    "        \n",
    "        # Si el porcentaje de vecinos es menor a cierto porcentaje de tolerancia,\n",
    "        # el agente se mueve a un lugar vacío\n",
    "        if vecindad < self.model.tolerancia:\n",
    "            self.model.grid.move_to_empty(self)\n",
    "        "
   ]
  },
  {
   "cell_type": "code",
   "execution_count": 23,
   "id": "72b22ef2-32f2-4d1e-a730-4d806ea5355b",
   "metadata": {},
   "outputs": [],
   "source": [
    "class ModeloSchelling(Model):\n",
    "    \"\"\"\n",
    "    Modelo de Schelling,\n",
    "    Esta clase implementa el modelo de segregación de Schelling en una malla discreta.\n",
    "\n",
    "    ancho: ancho de la malla. Int\n",
    "    largo: largo de la malla. Int\n",
    "    tolerancia: porcentaje de vecinos al menos iguales al del agente. Float.\n",
    "    cantidad: número de agentes que colocaremos en la malla. Int\n",
    "    \"\"\"\n",
    "    def __init__(self,ancho,largo, tolerancia, cantidad):\n",
    "        self.ancho = ancho\n",
    "        self.largo = largo\n",
    "        self.tolerancia = tolerancia\n",
    "        self.cantidad = cantidad\n",
    "        colores = [\"red\", \"blue\"]\n",
    "        \n",
    "        # Activamos el orden aleatorio\n",
    "        self.schedule = RandomActivation(self)\n",
    "        self.grid = SingleGrid(ancho, largo, torus= True)\n",
    "\n",
    "        \n",
    "        for i in range(cantidad):\n",
    "            color = self.random.choice(colores)\n",
    "            pos = self.grid.find_empty()\n",
    "            # Como estamos dentro de la clase para hacer referencia al modelo lo hacemos como self\n",
    "            agente = AgenteSchelling(i,self, color,pos)\n",
    "            # Después de crear el agente tenemos que colocarlo en la malla\n",
    "            self.grid.place_agent(agente, pos)\n",
    "            # De igual forma una vez creado el agente tenemos que 'agendarlo'\n",
    "            self.schedule.add(agente)\n",
    "    def step(self):\n",
    "        # Avanza un paso en el tiempo.\n",
    "        self.schedule.step()"
   ]
  },
  {
   "cell_type": "markdown",
   "id": "6f20e986-3702-46bc-9bd9-21e9367f165a",
   "metadata": {},
   "source": [
    "Inicializamos el modelo"
   ]
  },
  {
   "cell_type": "code",
   "execution_count": 24,
   "id": "dad1596f-fed7-45b7-9e65-eeef78645131",
   "metadata": {
    "tags": []
   },
   "outputs": [],
   "source": [
    "modelo_p1 = ModeloSchelling(10,10,0.4,60)"
   ]
  },
  {
   "cell_type": "markdown",
   "id": "7ff713cf-48a4-4f6d-bb3b-924ec19a5306",
   "metadata": {},
   "source": [
    "### Dibujamos los agentes en su posición inicial"
   ]
  },
  {
   "cell_type": "code",
   "execution_count": 25,
   "id": "f1721bd4-e8a6-4dec-ae37-9317e4df65a6",
   "metadata": {},
   "outputs": [],
   "source": [
    "import matplotlib.pyplot as plt\n",
    "import numpy as np"
   ]
  },
  {
   "cell_type": "code",
   "execution_count": 26,
   "id": "c9d19f40-8af4-4a5c-afe0-1b924e31ad5e",
   "metadata": {},
   "outputs": [],
   "source": [
    "# Esta celda solo es para visualizar la matrix con un cmap con sólo 3 colores\n",
    "from matplotlib.colors import LinearSegmentedColormap\n",
    "cmapp = LinearSegmentedColormap.from_list(name = 'schelling_2',\n",
    "                                          colors = [(1, 1, 1), (0, 0, 1), (1, 0, 0)],\n",
    "                                          N=3)"
   ]
  },
  {
   "cell_type": "code",
   "execution_count": 27,
   "id": "227aaac2-d6a8-4f71-a3ba-706d4bd7de2d",
   "metadata": {},
   "outputs": [
    {
     "data": {
      "text/plain": [
       "<matplotlib.image.AxesImage at 0x7f9df805ae20>"
      ]
     },
     "execution_count": 27,
     "metadata": {},
     "output_type": "execute_result"
    },
    {
     "data": {
      "image/png": "[encoded data removed]",
      "text/plain": [
       "<Figure size 1000x618 with 1 Axes>"
      ]
     },
     "metadata": {},
     "output_type": "display_data"
    }
   ],
   "source": [
    "matrix_grid = np.zeros((modelo_p1.grid.width, modelo_p1.grid.height))\n",
    "\n",
    "for vecino in modelo_p1.grid.coord_iter():\n",
    "    cell_content, x, y = vecino\n",
    "    # Como usaremos un mapa de color (cmap) asignaremos un color con el valor 0 y otros dos \n",
    "    # colores diferentes con los valores  0.5 y 1\n",
    "    if cell_content == None:\n",
    "        matrix_grid[x][y] = 0 \n",
    "    else:\n",
    "        if cell_content.color == \"blue\":\n",
    "            matrix_grid[x][y] = 0.5\n",
    "        if cell_content.color == \"red\":\n",
    "            matrix_grid[x][y] = 1\n",
    "\n",
    "plt.imshow(matrix_grid, cmap=cmapp,interpolation='nearest')"
   ]
  },
  {
   "cell_type": "markdown",
   "id": "a9657d1d-a20e-41c5-b92b-8fcfcbd36996",
   "metadata": {},
   "source": [
    "Iteramos el modelo unas 1000 veces"
   ]
  },
  {
   "cell_type": "code",
   "execution_count": 28,
   "id": "ef9e76d6-e638-4307-b096-ca96fc9c55f7",
   "metadata": {},
   "outputs": [],
   "source": [
    "for i in range(1000):\n",
    "    modelo_p1.step()"
   ]
  },
  {
   "cell_type": "markdown",
   "id": "80cd5fe1-40af-4124-a256-6cd851b5696f",
   "metadata": {},
   "source": [
    "Dibujamos los agentes 1000 iteraciones después"
   ]
  },
  {
   "cell_type": "code",
   "execution_count": 29,
   "id": "a9724842-f908-459b-8dcc-22efda4715dd",
   "metadata": {},
   "outputs": [
    {
     "data": {
      "text/plain": [
       "<matplotlib.image.AxesImage at 0x7f9ddfd3dca0>"
      ]
     },
     "execution_count": 29,
     "metadata": {},
     "output_type": "execute_result"
    },
    {
     "data": {
      "image/png": "[encoded data removed]",
      "text/plain": [
       "<Figure size 1000x618 with 1 Axes>"
      ]
     },
     "metadata": {},
     "output_type": "display_data"
    }
   ],
   "source": [
    "matrix_grid = np.zeros((modelo_p1.grid.width, modelo_p1.grid.height))\n",
    "\n",
    "for vecino in modelo_p1.grid.coord_iter():\n",
    "    cell_content, x, y = vecino\n",
    "    # Como usaremos un mapa de color (cmap) asignaremos un color con el valor 0 y otros dos \n",
    "    # colores diferentes con los valores  0.5 y 1\n",
    "    if cell_content == None:\n",
    "        matrix_grid[x][y] = 0\n",
    "    else:\n",
    "        if cell_content.color == \"blue\":\n",
    "            matrix_grid[x][y] = 0.5\n",
    "        if cell_content.color == \"red\":\n",
    "            matrix_grid[x][y] = 1\n",
    "\n",
    "plt.imshow(matrix_grid, cmap=cmapp, interpolation='nearest')"
   ]
  },
  {
   "cell_type": "markdown",
   "id": "4a80b922-6b9d-4928-9684-7a4da42786c4",
   "metadata": {},
   "source": [
    "## Obtener datos de nuestro modelo"
   ]
  },
  {
   "cell_type": "markdown",
   "id": "1249cf7d-2497-426f-b233-bc026b43ec72",
   "metadata": {},
   "source": [
    "Como anteriormente habíamos definido las clases `AgenteSchelling` y `ModeloSchelling`, el atributo _tolerancia_ era parte del agente sin embargo es un atributo del modelo. Así que en las siguientes redefiniciones ya forma parte de los atributos del modelo."
   ]
  },
  {
   "cell_type": "code",
   "execution_count": 30,
   "id": "40633734-f2fd-4d79-93bf-020c8dd5b5a0",
   "metadata": {},
   "outputs": [],
   "source": [
    "class AgenteSchelling(Agent):\n",
    "    \"\"\"\n",
    "    Agente del modelo de Schelling\n",
    "    Esta clase implementa un agente para el modelo de segregación de Schelling en una malla discreta.\n",
    "    Atributos:\n",
    "        tipo/color: \"rojo\" \"azul\". Str.\n",
    "        pos: posición del agente. Tupla de enteros.\n",
    "        modelo: Nuestro clase modelo. Modelo mesa.\n",
    "    \"\"\"\n",
    "    def __init__(self,unique_id, model,color,pos):\n",
    "        # Aqui van los atributos del agente\n",
    "        super().__init__(unique_id,model)\n",
    "        self.color = color\n",
    "        self.pos = pos\n",
    "        self.model  = model\n",
    "        \n",
    "    def step(self):\n",
    "        #Buscar si hay algún otro agente en su vecindad cercana. Para el modelo de segregación utilizamos una vecindad de Moore\n",
    "        vecinos = self.model.grid.get_neighbors(self.pos, moore=True, include_center=False)\n",
    "        \n",
    "        # Contamos cuantos agentes vecinos son similares a nuestro agente\n",
    "        vecindad = 0\n",
    "        for i in vecinos:\n",
    "            if i.color == self.color:\n",
    "                vecindad += 1 # vecindad = vecindad + 1\n",
    "                \n",
    "        vecindad /= 8 # vecindad =  vecindad / 8         \n",
    "        \n",
    "        # Si el porcentaje de vecinos es menor a cierto porcentaje de tolerancia,\n",
    "        # el agente se mueve a un lugar vacío\n",
    "        if vecindad < self.model.tolerancia:\n",
    "            self.model.grid.move_to_empty(self)\n",
    "        "
   ]
  },
  {
   "cell_type": "code",
   "execution_count": 31,
   "id": "e82d1cc0-a5a8-4164-aaf7-edc9b66a1723",
   "metadata": {},
   "outputs": [],
   "source": [
    "class ModeloSchelling(Model):\n",
    "    \"\"\"\n",
    "    Modelo de Schelling,\n",
    "    Esta clase implementa el modelo de segregación de Schelling en una malla discreta.\n",
    "\n",
    "    ancho: ancho de la malla. Int\n",
    "    largo: largo de la malla. Int\n",
    "    tolerancia: porcentaje de vecinos al menos iguales al del agente. Float.\n",
    "    cantidad: número de agentes que colocaremos en la malla. Int\n",
    "    \"\"\"\n",
    "    def __init__(self,ancho,largo, cantidad,tolerancia):\n",
    "        self.ancho = ancho\n",
    "        self.largo = largo\n",
    "        self.tolerancia = tolerancia\n",
    "        self.cantidad = cantidad\n",
    "        colores = [\"red\", \"blue\"]\n",
    "        \n",
    "        # Activamos el orden aleatorio\n",
    "        self.schedule = RandomActivation(self)\n",
    "        self.grid = SingleGrid(ancho, largo, torus= True)\n",
    "\n",
    "        for i in range(cantidad):\n",
    "            color = self.random.choice(colores)\n",
    "            pos = self.grid.find_empty()\n",
    "            # Como estamos dentro de la clase para hacer referencia al modelo lo hacemos como self\n",
    "            agente = AgenteSchelling(i,self, color,pos)\n",
    "            # Después de crear el agente tenemos que colocarlo en la malla\n",
    "            self.grid.place_agent(agente, pos)\n",
    "            # De igual forma una vez creado el agente tenemos que 'agendarlo'\n",
    "            self.schedule.add(agente)\n",
    "    def step(self):\n",
    "        # Avanza un paso en el tiempo.\n",
    "        self.schedule.step()"
   ]
  },
  {
   "cell_type": "markdown",
   "id": "b427cd1c-6f53-4f94-a522-dc620a107114",
   "metadata": {},
   "source": [
    "Definimos una función para saber en promedio cuantos vecinos similares estan alrededor de cada agente"
   ]
  },
  {
   "cell_type": "code",
   "execution_count": 32,
   "id": "01d10bc0-01e7-4682-b25f-0410d4aa9719",
   "metadata": {},
   "outputs": [],
   "source": [
    "#Porcentaje de vecinos que son iguales a nuestro agente()\n",
    "def simi(model):\n",
    "    promedio_similaridad = []\n",
    "    for agente in model.schedule.agents:\n",
    "        vecinos = model.grid.get_neighbors(agente.pos, moore=True, include_center=False)\n",
    "        similaridad = 0\n",
    "\n",
    "        for vecino in vecinos:\n",
    "            if vecino.color == agente.color:\n",
    "                similaridad += 1\n",
    "        similaridad /= 8\n",
    "        promedio_similaridad.append(similaridad)\n",
    "\n",
    "    promedio_similaridad = np.array(promedio_similaridad)\n",
    "\n",
    "    return promedio_similaridad.mean()\n"
   ]
  },
  {
   "cell_type": "code",
   "execution_count": 33,
   "id": "7039627a-cff8-4650-a4ad-7c015ea0e005",
   "metadata": {},
   "outputs": [
    {
     "name": "stdout",
     "output_type": "stream",
     "text": [
      "0.35\n",
      "0.37083333333333335\n",
      "0.4041666666666667\n",
      "0.44583333333333336\n",
      "0.5416666666666666\n",
      "0.5375\n",
      "0.5375\n",
      "0.5458333333333333\n",
      "0.575\n",
      "0.6125\n",
      "0.6583333333333333\n",
      "0.6541666666666667\n",
      "0.6458333333333334\n",
      "0.6375\n",
      "0.6208333333333333\n",
      "0.6541666666666667\n",
      "0.6375\n",
      "0.6333333333333333\n",
      "0.675\n",
      "0.6791666666666667\n",
      "0.6333333333333333\n",
      "0.7\n",
      "0.6708333333333333\n",
      "0.6916666666666667\n",
      "0.6833333333333333\n",
      "0.6916666666666667\n",
      "0.7\n",
      "0.6791666666666667\n",
      "0.675\n",
      "0.6916666666666667\n",
      "0.6833333333333333\n",
      "0.6875\n",
      "0.7041666666666667\n",
      "0.725\n",
      "0.6833333333333333\n",
      "0.7041666666666667\n",
      "0.7083333333333334\n",
      "0.7125\n",
      "0.7083333333333334\n",
      "0.6916666666666667\n",
      "0.6833333333333333\n",
      "0.6958333333333333\n",
      "0.7041666666666667\n",
      "0.6791666666666667\n",
      "0.7041666666666667\n",
      "0.7\n",
      "0.7\n",
      "0.6958333333333333\n",
      "0.7041666666666667\n",
      "0.7041666666666667\n",
      "0.7125\n",
      "0.7125\n",
      "0.6958333333333333\n",
      "0.7166666666666667\n",
      "0.7\n",
      "0.7\n",
      "0.7\n",
      "0.7166666666666667\n",
      "0.7125\n",
      "0.6958333333333333\n",
      "0.6958333333333333\n",
      "0.6958333333333333\n",
      "0.7125\n",
      "0.7166666666666667\n",
      "0.7041666666666667\n",
      "0.7166666666666667\n",
      "0.725\n",
      "0.725\n",
      "0.7083333333333334\n",
      "0.7041666666666667\n",
      "0.6916666666666667\n",
      "0.7333333333333333\n",
      "0.7\n",
      "0.7125\n",
      "0.7041666666666667\n",
      "0.7125\n",
      "0.7083333333333334\n",
      "0.7208333333333333\n",
      "0.7333333333333333\n",
      "0.7291666666666666\n",
      "0.7208333333333333\n",
      "0.7083333333333334\n",
      "0.7083333333333334\n",
      "0.7041666666666667\n",
      "0.7041666666666667\n",
      "0.7125\n",
      "0.7083333333333334\n",
      "0.7083333333333334\n",
      "0.7166666666666667\n",
      "0.7083333333333334\n",
      "0.7\n",
      "0.6958333333333333\n",
      "0.7291666666666666\n",
      "0.725\n",
      "0.7208333333333333\n",
      "0.725\n",
      "0.7041666666666667\n",
      "0.7083333333333334\n",
      "0.7041666666666667\n",
      "0.7125\n"
     ]
    }
   ],
   "source": [
    "modelo_test = ModeloSchelling(10,10,60,0.4)\n",
    "for i in range(100):\n",
    "    modelo_test.step()\n",
    "    print(simi(modelo_test))"
   ]
  },
  {
   "cell_type": "markdown",
   "id": "5e9b73a1-143d-4baa-8197-27e1643b857d",
   "metadata": {},
   "source": [
    "### El recolector de datos\n"
   ]
  },
  {
   "cell_type": "code",
   "execution_count": 34,
   "id": "beb42080-f13e-41c7-8e68-7481d7bb06ff",
   "metadata": {},
   "outputs": [],
   "source": [
    "from mesa.datacollection import DataCollector"
   ]
  },
  {
   "cell_type": "code",
   "execution_count": 35,
   "id": "d2478169-0ce3-4c6d-a50b-a43ba8521af5",
   "metadata": {},
   "outputs": [],
   "source": [
    "class ModeloSchelling(Model):\n",
    "    \"\"\"\n",
    "    Modelo de Schelling,\n",
    "    Esta clase implementa el modelo de segregación de Schelling en una malla discreta.\n",
    "\n",
    "    ancho: ancho de la malla. Int\n",
    "    largo: largo de la malla. Int\n",
    "    cantidad: número de agentes que colocaremos en la malla. Int\n",
    "    tolerancia: porcentaje de vecinos al menos iguales al del agente. Float.\n",
    "    \"\"\"\n",
    "    def __init__(self,ancho,largo, cantidad,tolerancia):\n",
    "        self.ancho = ancho\n",
    "        self.largo = largo\n",
    "        self.tolerancia = 0.4\n",
    "        self.cantidad = cantidad\n",
    "        colores = [\"red\", \"blue\"]\n",
    "\n",
    "        # Activamos el orden aleatorio\n",
    "        self.schedule = RandomActivation(self)\n",
    "        self.grid = SingleGrid(ancho, largo, torus= True)\n",
    "        \n",
    "        for i in range(cantidad):\n",
    "            color = self.random.choice(colores)\n",
    "            pos = self.grid.find_empty()\n",
    "            # Como estamos dentro de la clase para hacer referencia al modelo lo hacemos como self\n",
    "            agente = AgenteSchelling(i,self, color,pos)\n",
    "            # Después de crear el agente tenemos que colocarlo en la malla\n",
    "            self.grid.place_agent(agente, pos)\n",
    "            # De igual forma una vez creado el agente tenemos que 'agendarlo'\n",
    "            self.schedule.add(agente)\n",
    "            \n",
    "        # Recolectamos los datos de la similiaridad de vecinos\n",
    "        self.datacollector = DataCollector(model_reporters = {'Similitud':simi})\n",
    "\n",
    "    def step(self):\n",
    "        # En cada paso recolectamos hacemos la recolección de datos\n",
    "        self.datacollector.collect(self)\n",
    "        # Avanza un paso en el tiempo.\n",
    "        self.schedule.step()"
   ]
  },
  {
   "cell_type": "markdown",
   "id": "1d6b63e5-f1cd-4597-80b4-4c3d2ade1f1f",
   "metadata": {},
   "source": [
    "Inicializamos el modelo y lo corremos 100 veces.\n",
    "\n",
    "Tenemos una malla de 10x10 con 60 agentes colocados al azar y para que se quede en esa posición al menos 40% de sus vecinos deben ser del mismo tipo"
   ]
  },
  {
   "cell_type": "code",
   "execution_count": 36,
   "id": "14dd81d4-ded0-45e2-b31f-94ce6245ac2e",
   "metadata": {},
   "outputs": [],
   "source": [
    "modelo_test = ModeloSchelling(10,10,60,0.4)\n",
    "for i in range(100):\n",
    "    modelo_test.step()\n",
    "tabla_datos_modelo = modelo_test.datacollector.get_model_vars_dataframe()"
   ]
  },
  {
   "cell_type": "code",
   "execution_count": 37,
   "id": "eacd9728-ea9d-45c9-b7eb-d5f46d8c62b1",
   "metadata": {},
   "outputs": [],
   "source": [
    "modelo_test = ModeloSchelling(10,10,60,0.4)\n",
    "for i in range(100):\n",
    "    modelo_test.step()\n",
    "tabla_datos_modelo2 = modelo_test.datacollector.get_model_vars_dataframe()"
   ]
  },
  {
   "cell_type": "code",
   "execution_count": 38,
   "id": "f5878747-af50-469f-b76e-62f421dc1343",
   "metadata": {},
   "outputs": [
    {
     "data": {
      "text/plain": [
       "[<matplotlib.lines.Line2D at 0x7f9dd8e65700>]"
      ]
     },
     "execution_count": 38,
     "metadata": {},
     "output_type": "execute_result"
    },
    {
     "data": {
      "image/png": "[encoded data removed]",
      "text/plain": [
       "<Figure size 1000x618 with 2 Axes>"
      ]
     },
     "metadata": {},
     "output_type": "display_data"
    }
   ],
   "source": [
    "figura = plt.figure()\n",
    "ax_run1 = figura.add_subplot(211)\n",
    "ax_run2 = figura.add_subplot(212)\n",
    "ax_run2.set_xlabel('Número de pasos')\n",
    "ax_run1.set_ylabel('Sim') # Similaridad\n",
    "ax_run2.set_ylabel('Sim')\n",
    "ax_run1.set_ylim(0,1)\n",
    "ax_run2.set_ylim(0,1)\n",
    "ax_run1.plot(tabla_datos_modelo)\n",
    "ax_run2.plot(tabla_datos_modelo2)"
   ]
  },
  {
   "cell_type": "markdown",
   "id": "8f15b9ab-8baf-44bd-a538-42447fba546a",
   "metadata": {},
   "source": [
    "## Batch Runner"
   ]
  },
  {
   "cell_type": "markdown",
   "id": "8dc7adde-992b-485f-bb85-4f7c92ef1ce7",
   "metadata": {},
   "source": [
    "El batch runner nos facilita realizar una exploración estadística de parámetros de nuestro modelo. Para poder activarlo necesitamos escribir el atributo `self.running = True` dentro del nuestra clase modelo."
   ]
  },
  {
   "cell_type": "code",
   "execution_count": 39,
   "id": "f34ae22c-3b92-4fde-9a35-7df64b6cbc61",
   "metadata": {},
   "outputs": [],
   "source": [
    "from mesa.batchrunner import BatchRunner"
   ]
  },
  {
   "cell_type": "code",
   "execution_count": 40,
   "id": "e3f38423-fc27-4ff6-bda0-61d84d016d47",
   "metadata": {},
   "outputs": [],
   "source": [
    "class ModeloSchelling(Model):\n",
    "    \"\"\"\n",
    "    Modelo de Schelling,\n",
    "    Esta clase implementa el modelo de segregación de Schelling en una malla discreta.\n",
    "\n",
    "    ancho: ancho de la malla. Int\n",
    "    largo: largo de la malla. Int\n",
    "    cantidad: número de agentes que colocaremos en la malla. Int\n",
    "    tolerancia: porcentaje de vecinos al menos iguales al del agente. Float.\n",
    "    \"\"\"\n",
    "    def __init__(self,ancho,largo, cantidad,tolerancia):\n",
    "        self.ancho = ancho\n",
    "        self.largo = largo\n",
    "        self.tolerancia = 0.4        \n",
    "        self.cantidad = cantidad\n",
    "        colores = [\"red\", \"blue\"]\n",
    "        \n",
    "        # Activamos el orden aleatorio\n",
    "        self.schedule = RandomActivation(self)\n",
    "        self.grid = SingleGrid(ancho, largo, torus= True)\n",
    "\n",
    "        # parametro necesario para correr el batch runner y la visualización\n",
    "        self.running = True\n",
    "        \n",
    "        for i in range(cantidad):\n",
    "            color = self.random.choice(colores)\n",
    "            pos = self.grid.find_empty()\n",
    "            # Como estamos dentro de la clase para hacer referencia al modelo lo hacemos como self\n",
    "            agente = AgenteSchelling(i,self, color,pos)\n",
    "            # Después de crear el agente tenemos que colocarlo en la malla\n",
    "            self.grid.place_agent(agente, pos)\n",
    "            # De igual forma una vez creado el agente tenemos que 'agendarlo'\n",
    "            self.schedule.add(agente)\n",
    "\n",
    "        self.datacollector = DataCollector(model_reporters = {'Similitud':simi})\n",
    "\n",
    "    def step(self):\n",
    "        # Avanza un paso en el tiempo.\n",
    "        self.datacollector.collect(self)\n",
    "        self.schedule.step()"
   ]
  },
  {
   "cell_type": "markdown",
   "id": "3bd493a0-ee12-4bf8-bc98-cda28ba40722",
   "metadata": {},
   "source": [
    "Usamos un diccionario para los parámetros fijos y otro para los parámetros variables"
   ]
  },
  {
   "cell_type": "code",
   "execution_count": 41,
   "id": "92b74581-695f-4fc6-a038-67e059d98429",
   "metadata": {},
   "outputs": [],
   "source": [
    "fixed_params = {'ancho':10,'largo':10, 'cantidad': 60}\n",
    "variable_params  = {'tolerancia':np.linspace(0.3,0.8,num=20)}"
   ]
  },
  {
   "cell_type": "markdown",
   "id": "f9bf0c32-6ec8-4ce2-ba7a-48aa238a5008",
   "metadata": {},
   "source": [
    "Definimos la especificaciones del *batch run*. `max_steps` es el número de pasos que correrá el modelo dados unos parámetros iniciales, en este caso serán `100` pasos. `iterations` es número de repeticiones que se realizarán para cada combinación de todos los parámetros. Dados los parámetros que hemos definido, tenemos que en todas las simulaciones el ancho y el largo de la malla de 10x10 con 60 agentes desde siempre. "
   ]
  },
  {
   "cell_type": "code",
   "execution_count": 42,
   "id": "fc4fb37b-d0d2-42bb-b91a-518c7363655b",
   "metadata": {},
   "outputs": [],
   "source": [
    "batch_run = BatchRunner(\n",
    "    ModeloSchelling,\n",
    "    variable_params,\n",
    "    fixed_params,\n",
    "    iterations=10,\n",
    "    max_steps=100,\n",
    "    model_reporters={\"Similaridad\": simi}\n",
    ")"
   ]
  },
  {
   "cell_type": "code",
   "execution_count": 43,
   "id": "98e50785-d1a4-4573-aee9-37ba88051c22",
   "metadata": {},
   "outputs": [
    {
     "name": "stderr",
     "output_type": "stream",
     "text": [
      "200it [00:20,  9.70it/s]\n"
     ]
    }
   ],
   "source": [
    "# Ejecutamos el batch run\n",
    "batch_run.run_all()"
   ]
  },
  {
   "cell_type": "code",
   "execution_count": 44,
   "id": "148525bb-13c7-45c4-9418-193a3d4f2d16",
   "metadata": {},
   "outputs": [],
   "source": [
    "# obtenemos los datos de la propiedad del que medimos de nuestro modelo\n",
    "datos  = batch_run.get_model_vars_dataframe()"
   ]
  },
  {
   "cell_type": "code",
   "execution_count": 45,
   "id": "dbacce66-a39e-400d-947c-544a9ca45bba",
   "metadata": {},
   "outputs": [
    {
     "data": {
      "text/html": [
       "<div>\n",
       "<style scoped>\n",
       "    .dataframe tbody tr th:only-of-type {\n",
       "        vertical-align: middle;\n",
       "    }\n",
       "\n",
       "    .dataframe tbody tr th {\n",
       "        vertical-align: top;\n",
       "    }\n",
       "\n",
       "    .dataframe thead th {\n",
       "        text-align: right;\n",
       "    }\n",
       "</style>\n",
       "<table border=\"1\" class=\"dataframe\">\n",
       "  <thead>\n",
       "    <tr style=\"text-align: right;\">\n",
       "      <th></th>\n",
       "      <th>tolerancia</th>\n",
       "      <th>Run</th>\n",
       "      <th>Similaridad</th>\n",
       "      <th>ancho</th>\n",
       "      <th>largo</th>\n",
       "      <th>cantidad</th>\n",
       "    </tr>\n",
       "  </thead>\n",
       "  <tbody>\n",
       "    <tr>\n",
       "      <th>0</th>\n",
       "      <td>0.3</td>\n",
       "      <td>0</td>\n",
       "      <td>0.729167</td>\n",
       "      <td>10</td>\n",
       "      <td>10</td>\n",
       "      <td>60</td>\n",
       "    </tr>\n",
       "    <tr>\n",
       "      <th>1</th>\n",
       "      <td>0.3</td>\n",
       "      <td>1</td>\n",
       "      <td>0.712500</td>\n",
       "      <td>10</td>\n",
       "      <td>10</td>\n",
       "      <td>60</td>\n",
       "    </tr>\n",
       "    <tr>\n",
       "      <th>2</th>\n",
       "      <td>0.3</td>\n",
       "      <td>2</td>\n",
       "      <td>0.679167</td>\n",
       "      <td>10</td>\n",
       "      <td>10</td>\n",
       "      <td>60</td>\n",
       "    </tr>\n",
       "    <tr>\n",
       "      <th>3</th>\n",
       "      <td>0.3</td>\n",
       "      <td>3</td>\n",
       "      <td>0.741667</td>\n",
       "      <td>10</td>\n",
       "      <td>10</td>\n",
       "      <td>60</td>\n",
       "    </tr>\n",
       "    <tr>\n",
       "      <th>4</th>\n",
       "      <td>0.3</td>\n",
       "      <td>4</td>\n",
       "      <td>0.720833</td>\n",
       "      <td>10</td>\n",
       "      <td>10</td>\n",
       "      <td>60</td>\n",
       "    </tr>\n",
       "    <tr>\n",
       "      <th>...</th>\n",
       "      <td>...</td>\n",
       "      <td>...</td>\n",
       "      <td>...</td>\n",
       "      <td>...</td>\n",
       "      <td>...</td>\n",
       "      <td>...</td>\n",
       "    </tr>\n",
       "    <tr>\n",
       "      <th>195</th>\n",
       "      <td>0.8</td>\n",
       "      <td>195</td>\n",
       "      <td>0.691667</td>\n",
       "      <td>10</td>\n",
       "      <td>10</td>\n",
       "      <td>60</td>\n",
       "    </tr>\n",
       "    <tr>\n",
       "      <th>196</th>\n",
       "      <td>0.8</td>\n",
       "      <td>196</td>\n",
       "      <td>0.720833</td>\n",
       "      <td>10</td>\n",
       "      <td>10</td>\n",
       "      <td>60</td>\n",
       "    </tr>\n",
       "    <tr>\n",
       "      <th>197</th>\n",
       "      <td>0.8</td>\n",
       "      <td>197</td>\n",
       "      <td>0.741667</td>\n",
       "      <td>10</td>\n",
       "      <td>10</td>\n",
       "      <td>60</td>\n",
       "    </tr>\n",
       "    <tr>\n",
       "      <th>198</th>\n",
       "      <td>0.8</td>\n",
       "      <td>198</td>\n",
       "      <td>0.754167</td>\n",
       "      <td>10</td>\n",
       "      <td>10</td>\n",
       "      <td>60</td>\n",
       "    </tr>\n",
       "    <tr>\n",
       "      <th>199</th>\n",
       "      <td>0.8</td>\n",
       "      <td>199</td>\n",
       "      <td>0.750000</td>\n",
       "      <td>10</td>\n",
       "      <td>10</td>\n",
       "      <td>60</td>\n",
       "    </tr>\n",
       "  </tbody>\n",
       "</table>\n",
       "<p>200 rows × 6 columns</p>\n",
       "</div>"
      ],
      "text/plain": [
       "     tolerancia  Run  Similaridad  ancho  largo  cantidad\n",
       "0           0.3    0     0.729167     10     10        60\n",
       "1           0.3    1     0.712500     10     10        60\n",
       "2           0.3    2     0.679167     10     10        60\n",
       "3           0.3    3     0.741667     10     10        60\n",
       "4           0.3    4     0.720833     10     10        60\n",
       "..          ...  ...          ...    ...    ...       ...\n",
       "195         0.8  195     0.691667     10     10        60\n",
       "196         0.8  196     0.720833     10     10        60\n",
       "197         0.8  197     0.741667     10     10        60\n",
       "198         0.8  198     0.754167     10     10        60\n",
       "199         0.8  199     0.750000     10     10        60\n",
       "\n",
       "[200 rows x 6 columns]"
      ]
     },
     "execution_count": 45,
     "metadata": {},
     "output_type": "execute_result"
    }
   ],
   "source": [
    "datos"
   ]
  },
  {
   "cell_type": "markdown",
   "id": "216b5c7a-8598-4ff7-ba28-2195bdfa08dd",
   "metadata": {},
   "source": [
    "Cada punto en la gráfica es el resultado final de la _similaridad_ después de una corrida de 100 pasos. Para cada valor de _tolerancia_ tenemos 10 puntos."
   ]
  },
  {
   "cell_type": "code",
   "execution_count": 46,
   "id": "85e0eae6-4ab0-4b63-97a6-f77f142c5ad0",
   "metadata": {},
   "outputs": [
    {
     "data": {
      "text/plain": [
       "(0.0, 1.0)"
      ]
     },
     "execution_count": 46,
     "metadata": {},
     "output_type": "execute_result"
    },
    {
     "data": {
      "image/png": "[encoded data removed]",
      "text/plain": [
       "<Figure size 1000x618 with 1 Axes>"
      ]
     },
     "metadata": {},
     "output_type": "display_data"
    }
   ],
   "source": [
    "plt.plot(datos.tolerancia, datos.Similaridad,'bo')\n",
    "plt.xlabel('Tolerancia')\n",
    "plt.ylabel('Similaridad')\n",
    "plt.ylim(0,1)"
   ]
  },
  {
   "cell_type": "markdown",
   "id": "7537429b-c2d4-4f6c-932f-efa0e5d980e9",
   "metadata": {},
   "source": [
    "## Visualización"
   ]
  },
  {
   "cell_type": "markdown",
   "id": "ab5e0d23-905c-40ca-9bbc-990191799c5d",
   "metadata": {},
   "source": [
    "Aunque para la visualización es suficiente colocar la clase modelo y agente en un archivo separado (`ModeloSegregacion.py`) y la visualización en otro (`ModeloSegregacion_Viz.py`) es recomendable seguir la estructura que se presenta en los ejemplos del [github de `MESA`](https://github.com/projectmesa/mesa/tree/main/examples)\n",
    "\n",
    "La visualización se ejecuta al ejercutar el archivo la visualización (`python ModeloSegregacion_Viz.py`), lo que abrirá una ventana dentro de nuestro navegador predeterminado."
   ]
  },
  {
   "cell_type": "code",
   "execution_count": null,
   "id": "c5343582-d3a3-4194-8adf-b838ce4b8fe1",
   "metadata": {},
   "outputs": [],
   "source": [
    "from mesa.visualization.modules import CanvasGrid, ChartModuledule\n",
    "from mesa.visualization.ModularVisualization import ModularServer\n",
    "\n",
    "# Separamos la clase ModeloSchelling y AgenteSchelling en archivo diferente al de la visualización\n",
    "from ModeloSegregacion import ModeloSchelling\n",
    "\n",
    "# La función agent_portrayal toma un objeto agente y regresa un diccionario con las propiedades de la forma \n",
    "# en la que será representado en la visualización\n",
    "def agent_portrayal(agent):\n",
    "    portrayal = {\"Shape\": \"rect\",\n",
    "                 \"Color\": agent.color,\n",
    "                 \"Filled\": \"true\",\n",
    "                 \"Layer\": 0,\n",
    "                 \"w\": 1,\n",
    "                 \"h\": 1}\n",
    "    return portrayal\n",
    "\n",
    "# Definimos una malla de 30x30 con una resolución de 500x500 pixeles\n",
    "grid = CanvasGrid(agent_portrayal, 30, 30, 500, 500)\n",
    "\n",
    "# Agregamos un gráfico que va monitoreandoque va actualizándose paso a paso. En la \n",
    "chart = ChartModule([{\"Label\": \"Similaridad\",\n",
    "                      \"Color\": \"Black\"}],\n",
    "                    data_collector_name='datacollector')\n",
    "\n",
    "# Cargamos tanto la malla como el gráfico dentro de ModularServer además especificamos\n",
    "# los parámetros que utilizaremos en la simulación\n",
    "server = ModularServer(ModeloSchelling,\n",
    "                       [grid,chart],\n",
    "                       \"Modelo de segregacion\",\n",
    "                       {\"density\":0.5, \"umbral\":0.4, \"width\":30, \"height\":30})\n",
    "\n",
    "server.port = 8521 # The default\n",
    "server.launch() "
   ]
  },
  {
   "cell_type": "markdown",
   "id": "2340b706-3c13-4e62-9144-1cfd47a4545a",
   "metadata": {},
   "source": [
    "## Modelo implementado en un espacio continuo"
   ]
  },
  {
   "cell_type": "markdown",
   "id": "3f3b5a72-a30c-4aac-a4b8-680b9aee2714",
   "metadata": {},
   "source": [
    "Aprovecharemos que el modelo de Schelling se puede implementar en un espacio continuo con modificar unas cuantas líneas en el código que ya tenemos.\n",
    "\n",
    "En vez de import `SingleGrid` importaremos `ContinuosSpace`"
   ]
  },
  {
   "cell_type": "code",
   "execution_count": 48,
   "id": "8ef42a85-240f-4152-8b30-5d62919bb472",
   "metadata": {},
   "outputs": [],
   "source": [
    "from mesa.space import ContinuousSpace"
   ]
  },
  {
   "cell_type": "code",
   "execution_count": 49,
   "id": "7203cdc6-2878-4b52-8206-2a08c0d0fe77",
   "metadata": {},
   "outputs": [],
   "source": [
    "class SchellingAgent(Agent):\n",
    "    \"\"\"\n",
    "    Agente del modelo de Schelling\n",
    "    Esta clase implementa un agente para el modelo de segregación de Schelling en el espacio discreto.\n",
    "    Atributos:\n",
    "        tipo/color: \"rojo\" \"azul\". Str.\n",
    "        modelo: Nuestro clase modelo. Modelo mesa.\n",
    "    \"\"\"\n",
    "    def __init__(self, unique_id, model,color):\n",
    "        # Aqui van los atributos del agente\n",
    "        super().__init__(unique_id, model)\n",
    "        self.color = color\n",
    "        \n",
    "    def step(self):\n",
    "        #Buscar si hay algún otro agente en su vecindad cercana. Para el modelo de segregación utilizamos una vecindad de Moore\n",
    "        vecinos = self.model.space.get_neighbors(self.pos, self.model.vecindad, False)\n",
    "        if len(vecinos) > 0:\n",
    "            afinidad = 0\n",
    "\n",
    "            # Contamos cuantos agentes vecinos son similares a nuestro agente\n",
    "            for i in vecinos:\n",
    "                if i.color == self.color:\n",
    "                    afinidad += 1 \n",
    "\n",
    "            afinidad /= len(vecinos) # el número de vecinos es variable\n",
    "\n",
    "            # Si el porcentaje de vecinos es menor a cierto porcentaje de tolerancia,\n",
    "            # el agente se mueve a un lugar vacío\n",
    "            if afinidad < self.model.umbral:\n",
    "                x = self.random.random() * self.model.space.x_max\n",
    "                y = self.random.random() * self.model.space.y_max\n",
    "                new_pos = np.array((x, y))\n",
    "                self.model.space.move_agent(self,new_pos)\n",
    "    "
   ]
  },
  {
   "cell_type": "code",
   "execution_count": 50,
   "id": "7aa4aaec-516f-4d6f-a38d-d0b793b010f5",
   "metadata": {},
   "outputs": [],
   "source": [
    "class SchellingModel(Model):\n",
    "    \"\"\"\n",
    "    Modelo de Schelling,\n",
    "    Esta clase implementa el modelo de segregación de Schelling en una malla discreta.\n",
    "\n",
    "    ancho: ancho de la malla. Int\n",
    "    largo: largo de la malla. Int\n",
    "    cantidad: número de agentes que colocaremos en la malla. Int\n",
    "    tolerancia: porcentaje de vecinos al menos iguales al del agente. Float.\n",
    "    \"\"\"\n",
    "    def __init__(self, N, width, height,umbral=0.6):\n",
    "        tipo = ['Blue','Red']\n",
    "        self.population = N\n",
    "        self.umbral = umbral\n",
    "        # En este caso los vecinos son aquellos que estan dentro de un área circular\n",
    "        self.vecindad = 1 # es el radio de la vecindad circular\n",
    "        \n",
    "        # Activamos el orden aleatorio\n",
    "        self.schedule = RandomActivation(self)\n",
    "        self.space = ContinuousSpace(width, height, True)\n",
    "\n",
    "        # parametro necesario para correr el batch runner y la visualización\n",
    "        self.running = True\n",
    "\n",
    "        # Crear agentes\n",
    "        for i in range(self.population):\n",
    "            x = self.random.random() * self.space.x_max\n",
    "            y = self.random.random() * self.space.y_max\n",
    "            pos = np.array((x, y))\n",
    "            \n",
    "            color = self.random.choice(tipo)\n",
    "            agente = SchellingAgent(i, self,color)\n",
    "            \n",
    "            # Después de crear el agente tenemos que colocarlo en el espacio\n",
    "            self.space.place_agent(agente, pos)\n",
    "            # De igual forma una vez creado el agente tenemos que 'agendarlo'\n",
    "            self.schedule.add(agente)\n",
    "            \n",
    "            self.datacollector = DataCollector(\n",
    "                model_reporters={\"Similaridad\": simi},\n",
    "                agent_reporters={\"Tipo\": \"color\",\n",
    "                                 \"X\": lambda z: z.pos[0],\n",
    "                                 \"Y\": lambda z: z.pos[1],\n",
    "                                 \"Posicion\": \"pos\"})\n",
    "\n",
    "    def step(self):\n",
    "        \"\"\"Incrementa un paso en el tiempo\"\"\"\n",
    "        self.datacollector.collect(self)\n",
    "        self.schedule.step()\n",
    "\n",
    "    def run_model(self, n_pasos=100):\n",
    "        for i in range(n_pasos):\n",
    "#             print('Paso {}'.format(i))\n",
    "            self.step()\n",
    "        \n",
    "def simi(model):\n",
    "    pct_simi = []\n",
    "    for agente in modelo.schedule.agents:\n",
    "        vecinos = model.space.get_neighbors(agente.pos, model.vecindad, False)\n",
    "        if len(vecinos) > 0: \n",
    "            afinidad = 0\n",
    "            for j in vecinos:\n",
    "                if j.color == agente.color:\n",
    "                    afinidad += 1\n",
    "            afinidad /= len(vecinos)\n",
    "        else:\n",
    "            afinidad = 1\n",
    "        pct_simi.append(afinidad)\n",
    "    pct_simi = np.array(pct_simi)\n",
    "\n",
    "    return pct_simi.mean()"
   ]
  },
  {
   "cell_type": "markdown",
   "id": "fcc69d18-2fd5-4870-84ad-0af8067869a2",
   "metadata": {},
   "source": [
    "Inicializamos el modelo con `500` agentes en un espacio de `10x10` y hacemos una corrida de `100` pasos."
   ]
  },
  {
   "cell_type": "code",
   "execution_count": 57,
   "id": "83588f8f-0b92-404e-97f0-128961a2634a",
   "metadata": {},
   "outputs": [],
   "source": [
    "modelo = SchellingModel(500,10,10)"
   ]
  },
  {
   "cell_type": "markdown",
   "id": "a36e9cbd-162b-445a-8b9c-08c85b807f5d",
   "metadata": {},
   "source": [
    "### Posición inicial"
   ]
  },
  {
   "cell_type": "code",
   "execution_count": 58,
   "id": "79515720-478f-42ae-8cac-ecba5f93f721",
   "metadata": {},
   "outputs": [
    {
     "data": {
      "image/png": "[encoded data removed]",
      "text/plain": [
       "<Figure size 1000x618 with 1 Axes>"
      ]
     },
     "metadata": {},
     "output_type": "display_data"
    }
   ],
   "source": [
    "figura = plt.figure()\n",
    "escater = figura.add_subplot(111)\n",
    "for c in modelo.schedule.agents:\n",
    "    escater.plot(c.pos[0],c.pos[1],color=c.color, marker ='o',ms=4)\n",
    "    \n",
    "escater.set(ylim=(0,10),xlim=(0,10))\n",
    "escater.set_aspect('equal','box')\n"
   ]
  },
  {
   "cell_type": "code",
   "execution_count": 59,
   "id": "8ded2e22-a01d-4838-87de-dd310bb72e08",
   "metadata": {},
   "outputs": [],
   "source": [
    "# En vez de un for por fuera del objeto se puede usar el método run_model\n",
    "modelo.run_model(100)"
   ]
  },
  {
   "cell_type": "markdown",
   "id": "5545c3b3-2af6-4e19-b816-0f7826ad2368",
   "metadata": {},
   "source": [
    "### Posición después de 100 pasos"
   ]
  },
  {
   "cell_type": "code",
   "execution_count": 60,
   "id": "42a7da66-0e51-42d3-927e-f41ff4da657f",
   "metadata": {
    "tags": []
   },
   "outputs": [
    {
     "data": {
      "image/png": "[encoded data removed]",
      "text/plain": [
       "<Figure size 1000x618 with 1 Axes>"
      ]
     },
     "metadata": {},
     "output_type": "display_data"
    }
   ],
   "source": [
    "figura = plt.figure()\n",
    "escater = figura.add_subplot(111)\n",
    "for c in modelo.schedule.agents:\n",
    "    escater.plot(c.pos[0],c.pos[1],color=c.color, marker ='o',ms=5)\n",
    "    \n",
    "escater.set(ylim=(0,10),xlim=(0,10))\n",
    "escater.set_aspect('equal','box')\n"
   ]
  },
  {
   "cell_type": "code",
   "execution_count": 61,
   "id": "5d79dab4-c7b9-4f55-ae40-1d243f8391fb",
   "metadata": {},
   "outputs": [],
   "source": [
    "tabla_agentes = modelo.datacollector.get_agent_vars_dataframe()\n",
    "tabla_modelo = modelo.datacollector.get_model_vars_dataframe()"
   ]
  },
  {
   "cell_type": "code",
   "execution_count": 62,
   "id": "e041e01f-1b3c-42be-b7fb-560a8f8bf5d7",
   "metadata": {},
   "outputs": [
    {
     "data": {
      "text/plain": [
       "Text(0, 0.5, 'Similaridad')"
      ]
     },
     "execution_count": 62,
     "metadata": {},
     "output_type": "execute_result"
    },
    {
     "data": {
      "image/png": "[encoded data removed]",
      "text/plain": [
       "<Figure size 1000x618 with 1 Axes>"
      ]
     },
     "metadata": {},
     "output_type": "display_data"
    }
   ],
   "source": [
    "plt.plot(tabla_modelo.Similaridad.values)\n",
    "plt.ylim(0,1)\n",
    "plt.xlabel('Núm. pasos')\n",
    "plt.ylabel('Similaridad')"
   ]
  },
  {
   "cell_type": "markdown",
   "id": "c6272ac3-54bc-403c-ad23-71c7474308dd",
   "metadata": {},
   "source": [
    "\n",
    "Implementar esta versión continua en el `Batch runner` es muy parecido a como lo hicimos en la sección [Batch Runner](##Batch-Runner). Sin embargo para la visualización es un poco más complicado dado que esa aún no esta muy desarrollada en `MESA`, no obstante pueden ver el ejemplo de [Boid Flockers]()"
   ]
  },
  {
   "cell_type": "markdown",
   "id": "7fe09d87-61d3-4548-b186-6247a1466caf",
   "metadata": {},
   "source": [
    "## Extensión del modelo"
   ]
  },
  {
   "cell_type": "markdown",
   "id": "4fc1725f-dafa-4eb1-8e32-7ae34647e879",
   "metadata": {},
   "source": [
    "* Agregar más de dos tipos de agentes\n",
    "* Permitir que cada agente pueda tener distintos tipo de tolerancia.\n",
    "* Además de buscar cierto porcentaje de vecinos similares se puede pedir también cierto porcentaje de diversidad en los vecinos."
   ]
  }
 ],
 "metadata": {
  "kernelspec": {
   "display_name": "Python 3 (ipykernel)",
   "language": "python",
   "name": "python3"
  },
  "language_info": {
   "codemirror_mode": {
    "name": "ipython",
    "version": 3
   },
   "file_extension": ".py",
   "mimetype": "text/x-python",
   "name": "python",
   "nbconvert_exporter": "python",
   "pygments_lexer": "ipython3",
   "version": "3.9.6"
  }
 },
 "nbformat": 4,
 "nbformat_minor": 5
}
